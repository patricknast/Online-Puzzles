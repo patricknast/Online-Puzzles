{
 "cells": [
  {
   "cell_type": "code",
   "execution_count": 486,
   "id": "cd88b7f2",
   "metadata": {},
   "outputs": [],
   "source": [
    "with open('aoc20_input.txt') as f:\n",
    "    lines = f.readlines()\n",
    "lines = [line.strip() for line in lines]\n",
    "puzz_input = [int(line) for line in lines]\n",
    "\n",
    "with open('aoc20_example.txt') as f:\n",
    "    lines = f.readlines()\n",
    "lines = [line.strip() for line in lines]\n",
    "example = [int(line) for line in lines]"
   ]
  },
  {
   "cell_type": "code",
   "execution_count": 492,
   "id": "78502e52",
   "metadata": {},
   "outputs": [],
   "source": [
    "class CircleQueue:\n",
    "    def __init__(self, input_list,decryption_key=1):\n",
    "        self.input_list = [decryption_key*i for i in input_list]\n",
    "        self.order = list(range(len(input_list)))\n",
    "        self.decryption_key = decryption_key\n",
    "           \n",
    "    def move_element(self,original_index,steps):\n",
    "        current_index = self.order.index(original_index)\n",
    "        next_index = (current_index + steps) % (len(self.input_list) -1)\n",
    "        self.order.pop(current_index)\n",
    "        self.order[next_index:next_index] = [original_index]\n",
    "            \n",
    "    def circle(self):\n",
    "        return [self.input_list[i] for i in self.order]\n",
    "    \n",
    "    def mix_list(self):\n",
    "        for i in range(len(self.input_list)):\n",
    "            self.move_element(i,self.input_list[i])\n",
    "\n",
    "    def grove_coordinates(self):\n",
    "        zero_position = self.circle().index(0)\n",
    "        search_nums = [(zero_position + i) % len(self.circle()) for i in range(1000,4000,1000)]\n",
    "        grove_spots = [self.circle()[i] for i  in search_nums]\n",
    "        return sum(grove_spots)"
   ]
  },
  {
   "cell_type": "markdown",
   "id": "8041c358",
   "metadata": {},
   "source": [
    "# Part 1"
   ]
  },
  {
   "cell_type": "code",
   "execution_count": 496,
   "id": "40fcbe21",
   "metadata": {},
   "outputs": [
    {
     "data": {
      "text/plain": [
       "4426"
      ]
     },
     "execution_count": 496,
     "metadata": {},
     "output_type": "execute_result"
    }
   ],
   "source": [
    "list_to_mix = CircleQueue(puzz_input,decryption_key=1)\n",
    "list_to_mix.mix_list()\n",
    "list_to_mix.grove_coordinates()"
   ]
  },
  {
   "cell_type": "markdown",
   "id": "64749fde",
   "metadata": {},
   "source": [
    "# Part 2"
   ]
  },
  {
   "cell_type": "code",
   "execution_count": 497,
   "id": "8b47a98d",
   "metadata": {},
   "outputs": [
    {
     "data": {
      "text/plain": [
       "8119137886612"
      ]
     },
     "execution_count": 497,
     "metadata": {},
     "output_type": "execute_result"
    }
   ],
   "source": [
    "list_to_mix = CircleQueue(puzz_input,decryption_key=811589153)\n",
    "for i in range(10):\n",
    "    list_to_mix.mix_list()\n",
    "list_to_mix.grove_coordinates()"
   ]
  }
 ],
 "metadata": {
  "kernelspec": {
   "display_name": "Python 3 (ipykernel)",
   "language": "python",
   "name": "python3"
  },
  "language_info": {
   "codemirror_mode": {
    "name": "ipython",
    "version": 3
   },
   "file_extension": ".py",
   "mimetype": "text/x-python",
   "name": "python",
   "nbconvert_exporter": "python",
   "pygments_lexer": "ipython3",
   "version": "3.7.7"
  }
 },
 "nbformat": 4,
 "nbformat_minor": 5
}
