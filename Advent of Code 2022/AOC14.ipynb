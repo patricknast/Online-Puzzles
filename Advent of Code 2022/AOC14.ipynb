{
 "cells": [
  {
   "cell_type": "code",
   "execution_count": 443,
   "id": "288b908d",
   "metadata": {},
   "outputs": [],
   "source": [
    "import numpy as np\n",
    "from itertools import chain"
   ]
  },
  {
   "cell_type": "code",
   "execution_count": 456,
   "id": "c1a301cb",
   "metadata": {},
   "outputs": [],
   "source": [
    "with open('aoc14_input_example.txt') as f:\n",
    "    lines = f.readlines()\n",
    "lines = [line.strip().split(' -> ') for line in lines]\n",
    "lines = [[list(map(int,coord.split(','))) for coord in line] for line in lines]\n",
    "example_input = lines\n",
    "\n",
    "with open('aoc14_input.txt') as f:\n",
    "    lines = f.readlines()\n",
    "lines = [line.strip().split(' -> ') for line in lines]\n",
    "lines = [[list(map(int,coord.split(','))) for coord in line] for line in lines]\n",
    "real_input = lines"
   ]
  },
  {
   "cell_type": "code",
   "execution_count": 457,
   "id": "e9683c3e",
   "metadata": {},
   "outputs": [],
   "source": [
    "def flexible_range(i):\n",
    "    if i == 0:\n",
    "        return [0]\n",
    "    elif i > 0:\n",
    "        return range(i+1)\n",
    "    else:\n",
    "        return range(0,i-1,-1)"
   ]
  },
  {
   "cell_type": "code",
   "execution_count": 458,
   "id": "5cfc5c87",
   "metadata": {},
   "outputs": [],
   "source": [
    "def get_coords(puzzle_input):\n",
    "    all_coords = list(chain.from_iterable(lines))\n",
    "    min_x = min([coord[0] for coord in all_coords])\n",
    "    min_y = min([coord[1] for coord in all_coords])\n",
    "    max_x = max([coord[0] for coord in all_coords])\n",
    "    max_y = max([coord[1] for coord in all_coords])\n",
    "    return min_x, max_x, min_y, max_y"
   ]
  },
  {
   "cell_type": "code",
   "execution_count": 576,
   "id": "3d3fa352",
   "metadata": {},
   "outputs": [],
   "source": [
    "class FallingSand:\n",
    "    def __init__(self,puzzle_input,sand_x,use_floor=False):\n",
    "        self.puzzle_input = puzzle_input\n",
    "        self.min_x, self.max_x, self.min_y, self.max_y = get_coords(puzzle_input)\n",
    "        self.sand_x = sand_x - min_x\n",
    "        self.current_grid = np.chararray((self.max_y+10,self.max_x-self.min_x+10000),unicode=True)\n",
    "        self.current_grid[:] = '.'\n",
    "        self.abyss = False\n",
    "        self.topped = False\n",
    "        self.use_floor = use_floor\n",
    "    \n",
    "    def generate_rock_coords(self):\n",
    "        all_coords = []\n",
    "        for line in self.puzzle_input:\n",
    "            for i in range(len(line)-1):\n",
    "                x0, y0 = line[i]\n",
    "                x1, y1 = line[i+1]\n",
    "                x_diff, y_diff =  x1-x0, y1-y0\n",
    "                xs = flexible_range(x_diff)\n",
    "                ys = flexible_range(y_diff)\n",
    "                for x in xs:\n",
    "                    for y in ys:\n",
    "                        all_coords.append([x0+x,y0+y])\n",
    "        return all_coords\n",
    "\n",
    "    def place_rocks(self):\n",
    "        all_coords = generate_rock_coords(self.puzzle_input)\n",
    "        for coord in all_coords:\n",
    "            i,j = np.array(coord) - [min_x,0]\n",
    "            self.current_grid[j][i] = '#'\n",
    "        if self.use_floor:\n",
    "            for i in range(0,self.max_x-self.min_x+10000):\n",
    "                self.current_grid[self.max_y+2][i] = '#'\n",
    "            \n",
    "    \n",
    "    def sand_step(self,position):\n",
    "        i,j  = position\n",
    "        if self.current_grid[0][self.sand_x] == 'o':\n",
    "            self.topped = True\n",
    "            landed_status = False\n",
    "        if self.current_grid[j+1][i] == '.':\n",
    "            landed_status = False\n",
    "            self.current_grid[j,i] = '.'\n",
    "            self.current_grid[j+1][i] = '+'\n",
    "            position = i, j+1\n",
    "        elif self.current_grid[j+1][i-1] == '.':\n",
    "            landed_status = False\n",
    "            self.current_grid[j,i] = '.'\n",
    "            self.current_grid[j+1][i-1] = '+'\n",
    "            position = i-1, j+1\n",
    "        elif self.current_grid[j+1][i+1] == '.':\n",
    "            landed_status = False\n",
    "            self.current_grid[j,i] = '.'\n",
    "            self.current_grid[j+1][i+1] = '+'\n",
    "            position = i+1, j+1\n",
    "        else:\n",
    "            landed_status = True\n",
    "            self.current_grid[j,i] = 'o'\n",
    "            position = i, j\n",
    "        return landed_status, position\n",
    "\n",
    "    def drop_sand(self):\n",
    "        landed_status = False\n",
    "        position = self.sand_x, 0\n",
    "        while not landed_status:\n",
    "            landed_status, position = self.sand_step(position)\n",
    "#             print(max_y, position[1])\n",
    "            if (position[1] >= self.max_y) and self.use_floor == False:\n",
    "                print('Abyss!')\n",
    "                self.abyss = True\n",
    "                break"
   ]
  },
  {
   "cell_type": "code",
   "execution_count": 479,
   "id": "7fd48e53",
   "metadata": {},
   "outputs": [],
   "source": [
    "sandgame = FallingSand(example_input,500)\n"
   ]
  },
  {
   "cell_type": "code",
   "execution_count": 480,
   "id": "6f67821c",
   "metadata": {
    "scrolled": false
   },
   "outputs": [
    {
     "data": {
      "text/plain": [
       "chararray([['.', '.', '.', ..., '.', '.', '.'],\n",
       "           ['.', '.', '.', ..., '.', '.', '.'],\n",
       "           ['.', '.', '.', ..., '.', '.', '.'],\n",
       "           ...,\n",
       "           ['.', '.', '.', ..., '.', '.', '.'],\n",
       "           ['.', '.', '.', ..., '.', '.', '.'],\n",
       "           ['.', '.', '.', ..., '.', '.', '.']], dtype='<U1')"
      ]
     },
     "execution_count": 480,
     "metadata": {},
     "output_type": "execute_result"
    }
   ],
   "source": [
    "sandgame.place_rocks()\n",
    "sandgame.current_grid"
   ]
  },
  {
   "cell_type": "code",
   "execution_count": 481,
   "id": "643095ec",
   "metadata": {
    "scrolled": true
   },
   "outputs": [
    {
     "name": "stdout",
     "output_type": "stream",
     "text": [
      "Abyss!\n",
      "24\n"
     ]
    },
    {
     "data": {
      "text/plain": [
       "chararray([['.', '.', '.', ..., '.', '.', '.'],\n",
       "           ['.', '.', '.', ..., '.', '.', '.'],\n",
       "           ['.', '.', '.', ..., '.', '.', '.'],\n",
       "           ...,\n",
       "           ['.', '.', '.', ..., '.', '.', '.'],\n",
       "           ['.', '.', '.', ..., '.', '.', '.'],\n",
       "           ['.', '.', '.', ..., '.', '.', '.']], dtype='<U1')"
      ]
     },
     "execution_count": 481,
     "metadata": {},
     "output_type": "execute_result"
    }
   ],
   "source": [
    "num_drops = 0\n",
    "while sandgame.abyss == False:\n",
    "    sandgame.drop_sand()\n",
    "    num_drops += 1\n",
    "print(num_drops-1)\n",
    "sandgame.current_grid\n"
   ]
  },
  {
   "cell_type": "code",
   "execution_count": 547,
   "id": "b4a64a1a",
   "metadata": {},
   "outputs": [],
   "source": [
    "np.savetxt('aoc14_output_example.txt',sandgame.current_grid,fmt='%s')"
   ]
  },
  {
   "cell_type": "code",
   "execution_count": 577,
   "id": "02c8e625",
   "metadata": {},
   "outputs": [],
   "source": [
    "sandgame = FallingSand(real_input,500,use_floor=True)"
   ]
  },
  {
   "cell_type": "code",
   "execution_count": 578,
   "id": "22d5dc75",
   "metadata": {},
   "outputs": [],
   "source": [
    "sandgame.place_rocks()\n",
    "sandgame.current_grid\n",
    "np.savetxt('aoc14_output.txt',sandgame.current_grid,fmt='%s')"
   ]
  },
  {
   "cell_type": "code",
   "execution_count": 572,
   "id": "0e870816",
   "metadata": {},
   "outputs": [
    {
     "ename": "KeyboardInterrupt",
     "evalue": "",
     "output_type": "error",
     "traceback": [
      "\u001b[0;31m---------------------------------------------------------------------------\u001b[0m",
      "\u001b[0;31mKeyboardInterrupt\u001b[0m                         Traceback (most recent call last)",
      "\u001b[0;32m/var/folders/z0/kb2dj7rs6pg9252qc6q3cclm0000gq/T/ipykernel_57467/3281341011.py\u001b[0m in \u001b[0;36m<module>\u001b[0;34m\u001b[0m\n\u001b[1;32m      1\u001b[0m \u001b[0mnum_drops\u001b[0m \u001b[0;34m=\u001b[0m \u001b[0;36m0\u001b[0m\u001b[0;34m\u001b[0m\u001b[0;34m\u001b[0m\u001b[0m\n\u001b[1;32m      2\u001b[0m \u001b[0;32mwhile\u001b[0m \u001b[0msandgame\u001b[0m\u001b[0;34m.\u001b[0m\u001b[0mabyss\u001b[0m \u001b[0;34m==\u001b[0m \u001b[0;32mFalse\u001b[0m\u001b[0;34m:\u001b[0m\u001b[0;34m\u001b[0m\u001b[0;34m\u001b[0m\u001b[0m\n\u001b[0;32m----> 3\u001b[0;31m     \u001b[0msandgame\u001b[0m\u001b[0;34m.\u001b[0m\u001b[0mdrop_sand\u001b[0m\u001b[0;34m(\u001b[0m\u001b[0;34m)\u001b[0m\u001b[0;34m\u001b[0m\u001b[0;34m\u001b[0m\u001b[0m\n\u001b[0m\u001b[1;32m      4\u001b[0m \u001b[0;31m#     print(sandgame.current_grid)\u001b[0m\u001b[0;34m\u001b[0m\u001b[0;34m\u001b[0m\u001b[0;34m\u001b[0m\u001b[0m\n\u001b[1;32m      5\u001b[0m     \u001b[0mnum_drops\u001b[0m \u001b[0;34m+=\u001b[0m \u001b[0;36m1\u001b[0m\u001b[0;34m\u001b[0m\u001b[0;34m\u001b[0m\u001b[0m\n",
      "\u001b[0;32m/var/folders/z0/kb2dj7rs6pg9252qc6q3cclm0000gq/T/ipykernel_57467/3328720420.py\u001b[0m in \u001b[0;36mdrop_sand\u001b[0;34m(self)\u001b[0m\n\u001b[1;32m     64\u001b[0m         \u001b[0mposition\u001b[0m \u001b[0;34m=\u001b[0m \u001b[0mself\u001b[0m\u001b[0;34m.\u001b[0m\u001b[0msand_x\u001b[0m\u001b[0;34m,\u001b[0m \u001b[0;36m0\u001b[0m\u001b[0;34m\u001b[0m\u001b[0;34m\u001b[0m\u001b[0m\n\u001b[1;32m     65\u001b[0m         \u001b[0;32mwhile\u001b[0m \u001b[0;32mnot\u001b[0m \u001b[0mlanded_status\u001b[0m\u001b[0;34m:\u001b[0m\u001b[0;34m\u001b[0m\u001b[0;34m\u001b[0m\u001b[0m\n\u001b[0;32m---> 66\u001b[0;31m             \u001b[0mlanded_status\u001b[0m\u001b[0;34m,\u001b[0m \u001b[0mposition\u001b[0m \u001b[0;34m=\u001b[0m \u001b[0mself\u001b[0m\u001b[0;34m.\u001b[0m\u001b[0msand_step\u001b[0m\u001b[0;34m(\u001b[0m\u001b[0mposition\u001b[0m\u001b[0;34m)\u001b[0m\u001b[0;34m\u001b[0m\u001b[0;34m\u001b[0m\u001b[0m\n\u001b[0m\u001b[1;32m     67\u001b[0m \u001b[0;31m#             print(max_y, position[1])\u001b[0m\u001b[0;34m\u001b[0m\u001b[0;34m\u001b[0m\u001b[0;34m\u001b[0m\u001b[0m\n\u001b[1;32m     68\u001b[0m             \u001b[0;32mif\u001b[0m \u001b[0;34m(\u001b[0m\u001b[0mposition\u001b[0m\u001b[0;34m[\u001b[0m\u001b[0;36m1\u001b[0m\u001b[0;34m]\u001b[0m \u001b[0;34m>=\u001b[0m \u001b[0mself\u001b[0m\u001b[0;34m.\u001b[0m\u001b[0mmax_y\u001b[0m\u001b[0;34m)\u001b[0m \u001b[0;32mand\u001b[0m \u001b[0mself\u001b[0m\u001b[0;34m.\u001b[0m\u001b[0muse_floor\u001b[0m \u001b[0;34m==\u001b[0m \u001b[0;32mFalse\u001b[0m\u001b[0;34m:\u001b[0m\u001b[0;34m\u001b[0m\u001b[0;34m\u001b[0m\u001b[0m\n",
      "\u001b[0;32m/var/folders/z0/kb2dj7rs6pg9252qc6q3cclm0000gq/T/ipykernel_57467/3328720420.py\u001b[0m in \u001b[0;36msand_step\u001b[0;34m(self, position)\u001b[0m\n\u001b[1;32m     36\u001b[0m     \u001b[0;32mdef\u001b[0m \u001b[0msand_step\u001b[0m\u001b[0;34m(\u001b[0m\u001b[0mself\u001b[0m\u001b[0;34m,\u001b[0m\u001b[0mposition\u001b[0m\u001b[0;34m)\u001b[0m\u001b[0;34m:\u001b[0m\u001b[0;34m\u001b[0m\u001b[0;34m\u001b[0m\u001b[0m\n\u001b[1;32m     37\u001b[0m         \u001b[0mi\u001b[0m\u001b[0;34m,\u001b[0m\u001b[0mj\u001b[0m  \u001b[0;34m=\u001b[0m \u001b[0mposition\u001b[0m\u001b[0;34m\u001b[0m\u001b[0;34m\u001b[0m\u001b[0m\n\u001b[0;32m---> 38\u001b[0;31m         \u001b[0;32mif\u001b[0m \u001b[0mself\u001b[0m\u001b[0;34m.\u001b[0m\u001b[0mcurrent_grid\u001b[0m\u001b[0;34m[\u001b[0m\u001b[0;36m0\u001b[0m\u001b[0;34m]\u001b[0m\u001b[0;34m[\u001b[0m\u001b[0mself\u001b[0m\u001b[0;34m.\u001b[0m\u001b[0msand_x\u001b[0m\u001b[0;34m]\u001b[0m \u001b[0;34m==\u001b[0m \u001b[0;34m'o'\u001b[0m\u001b[0;34m:\u001b[0m\u001b[0;34m\u001b[0m\u001b[0;34m\u001b[0m\u001b[0m\n\u001b[0m\u001b[1;32m     39\u001b[0m             \u001b[0mself\u001b[0m\u001b[0;34m.\u001b[0m\u001b[0mtopped\u001b[0m \u001b[0;34m=\u001b[0m \u001b[0;32mTrue\u001b[0m\u001b[0;34m\u001b[0m\u001b[0;34m\u001b[0m\u001b[0m\n\u001b[1;32m     40\u001b[0m             \u001b[0mlanded_status\u001b[0m \u001b[0;34m=\u001b[0m \u001b[0;32mFalse\u001b[0m\u001b[0;34m\u001b[0m\u001b[0;34m\u001b[0m\u001b[0m\n",
      "\u001b[0;32m~/opt/anaconda3/envs/willow/lib/python3.7/site-packages/numpy/core/defchararray.py\u001b[0m in \u001b[0;36m__getitem__\u001b[0;34m(self, obj)\u001b[0m\n\u001b[1;32m   1985\u001b[0m \u001b[0;34m\u001b[0m\u001b[0m\n\u001b[1;32m   1986\u001b[0m     \u001b[0;32mdef\u001b[0m \u001b[0m__getitem__\u001b[0m\u001b[0;34m(\u001b[0m\u001b[0mself\u001b[0m\u001b[0;34m,\u001b[0m \u001b[0mobj\u001b[0m\u001b[0;34m)\u001b[0m\u001b[0;34m:\u001b[0m\u001b[0;34m\u001b[0m\u001b[0;34m\u001b[0m\u001b[0m\n\u001b[0;32m-> 1987\u001b[0;31m         \u001b[0mval\u001b[0m \u001b[0;34m=\u001b[0m \u001b[0mndarray\u001b[0m\u001b[0;34m.\u001b[0m\u001b[0m__getitem__\u001b[0m\u001b[0;34m(\u001b[0m\u001b[0mself\u001b[0m\u001b[0;34m,\u001b[0m \u001b[0mobj\u001b[0m\u001b[0;34m)\u001b[0m\u001b[0;34m\u001b[0m\u001b[0;34m\u001b[0m\u001b[0m\n\u001b[0m\u001b[1;32m   1988\u001b[0m \u001b[0;34m\u001b[0m\u001b[0m\n\u001b[1;32m   1989\u001b[0m         \u001b[0;32mif\u001b[0m \u001b[0misinstance\u001b[0m\u001b[0;34m(\u001b[0m\u001b[0mval\u001b[0m\u001b[0;34m,\u001b[0m \u001b[0mcharacter\u001b[0m\u001b[0;34m)\u001b[0m\u001b[0;34m:\u001b[0m\u001b[0;34m\u001b[0m\u001b[0;34m\u001b[0m\u001b[0m\n",
      "\u001b[0;32m~/opt/anaconda3/envs/willow/lib/python3.7/site-packages/numpy/core/defchararray.py\u001b[0m in \u001b[0;36m__array_finalize__\u001b[0;34m(self, obj)\u001b[0m\n\u001b[1;32m   1979\u001b[0m         \u001b[0;32mreturn\u001b[0m \u001b[0mself\u001b[0m\u001b[0;34m\u001b[0m\u001b[0;34m\u001b[0m\u001b[0m\n\u001b[1;32m   1980\u001b[0m \u001b[0;34m\u001b[0m\u001b[0m\n\u001b[0;32m-> 1981\u001b[0;31m     \u001b[0;32mdef\u001b[0m \u001b[0m__array_finalize__\u001b[0m\u001b[0;34m(\u001b[0m\u001b[0mself\u001b[0m\u001b[0;34m,\u001b[0m \u001b[0mobj\u001b[0m\u001b[0;34m)\u001b[0m\u001b[0;34m:\u001b[0m\u001b[0;34m\u001b[0m\u001b[0;34m\u001b[0m\u001b[0m\n\u001b[0m\u001b[1;32m   1982\u001b[0m         \u001b[0;31m# The b is a special case because it is used for reconstructing.\u001b[0m\u001b[0;34m\u001b[0m\u001b[0;34m\u001b[0m\u001b[0;34m\u001b[0m\u001b[0m\n\u001b[1;32m   1983\u001b[0m         \u001b[0;32mif\u001b[0m \u001b[0;32mnot\u001b[0m \u001b[0m_globalvar\u001b[0m \u001b[0;32mand\u001b[0m \u001b[0mself\u001b[0m\u001b[0;34m.\u001b[0m\u001b[0mdtype\u001b[0m\u001b[0;34m.\u001b[0m\u001b[0mchar\u001b[0m \u001b[0;32mnot\u001b[0m \u001b[0;32min\u001b[0m \u001b[0;34m'SUbc'\u001b[0m\u001b[0;34m:\u001b[0m\u001b[0;34m\u001b[0m\u001b[0;34m\u001b[0m\u001b[0m\n",
      "\u001b[0;31mKeyboardInterrupt\u001b[0m: "
     ]
    }
   ],
   "source": [
    "num_drops = 0\n",
    "while sandgame.abyss == False:\n",
    "    sandgame.drop_sand()\n",
    "#     print(sandgame.current_grid)\n",
    "    num_drops += 1\n",
    "print(num_drops-1)\n",
    "np.savetxt('aoc14_output.txt',sandgame.current_grid,fmt='%s')"
   ]
  },
  {
   "cell_type": "markdown",
   "id": "2912829b",
   "metadata": {},
   "source": [
    "## Part 2"
   ]
  },
  {
   "cell_type": "code",
   "execution_count": 540,
   "id": "5f7419da",
   "metadata": {},
   "outputs": [],
   "source": [
    "for i in range(1000):\n",
    "    sandgame.drop_sand()\n",
    "    np.savetxt('aoc14_output.txt',sandgame.current_grid,fmt='%s')"
   ]
  },
  {
   "cell_type": "code",
   "execution_count": 579,
   "id": "779b1adb",
   "metadata": {},
   "outputs": [
    {
     "name": "stdout",
     "output_type": "stream",
     "text": [
      "10000\n",
      "20000\n",
      "25055\n"
     ]
    }
   ],
   "source": [
    "num_drops = 0\n",
    "while sandgame.topped == False:\n",
    "    sandgame.drop_sand()\n",
    "#     print(sandgame.current_grid)\n",
    "    num_drops += 1\n",
    "    if num_drops % 10000 == 0:\n",
    "        print(num_drops)\n",
    "        np.savetxt('aoc14_output.txt',sandgame.current_grid,fmt='%s')\n",
    "print(num_drops-1)\n",
    "np.savetxt('aoc14_output.txt',sandgame.current_grid,fmt='%s')"
   ]
  },
  {
   "cell_type": "code",
   "execution_count": null,
   "id": "30ab3fb7",
   "metadata": {},
   "outputs": [],
   "source": []
  }
 ],
 "metadata": {
  "kernelspec": {
   "display_name": "Python 3 (ipykernel)",
   "language": "python",
   "name": "python3"
  },
  "language_info": {
   "codemirror_mode": {
    "name": "ipython",
    "version": 3
   },
   "file_extension": ".py",
   "mimetype": "text/x-python",
   "name": "python",
   "nbconvert_exporter": "python",
   "pygments_lexer": "ipython3",
   "version": "3.7.7"
  }
 },
 "nbformat": 4,
 "nbformat_minor": 5
}
