{
 "cells": [
  {
   "cell_type": "code",
   "execution_count": 400,
   "id": "d726b14b",
   "metadata": {},
   "outputs": [],
   "source": [
    "import numpy as np\n",
    "with open('aoc22_input.txt') as f:\n",
    "    lines = f.readlines()\n",
    "puzzle_input = [line.replace('\\n','') for line in lines]\n",
    "\n",
    "with open('aoc22_example.txt') as f:\n",
    "    lines = f.readlines()\n",
    "example = [line.replace('\\n','') for line in lines]"
   ]
  },
  {
   "cell_type": "code",
   "execution_count": 401,
   "id": "da084ef5",
   "metadata": {},
   "outputs": [],
   "source": [
    "example_map = example[:-2]\n",
    "example_directions = example[-1]"
   ]
  },
  {
   "cell_type": "code",
   "execution_count": 402,
   "id": "5e418262",
   "metadata": {},
   "outputs": [],
   "source": [
    "puzzle_map = puzzle_input[:-2]\n",
    "puzzle_directions = puzzle_input[-1]"
   ]
  },
  {
   "cell_type": "code",
   "execution_count": 412,
   "id": "3ef5be8f",
   "metadata": {},
   "outputs": [],
   "source": [
    "class Map:\n",
    "    def __init__(self,input_map):\n",
    "        self.input_map = input_map\n",
    "        self.width = max([len(i) for i in input_map])\n",
    "        self.height = (len(input_map))\n",
    "        \n",
    "    def full_grid(self):\n",
    "        grid_array = np.chararray((self.height,self.width),unicode=True)\n",
    "        for i in range(self.height):\n",
    "            for j in range(self.width):\n",
    "                if j < len(self.input_map[i]):\n",
    "                    grid_array[i][j] = self.input_map[i][j]\n",
    "        return grid_array\n",
    "    def true_index(self,i,j):\n",
    "        # Convert from trim space to rectangular space\n",
    "        i_true = i\n",
    "        \n",
    "        \n",
    "        "
   ]
  },
  {
   "cell_type": "code",
   "execution_count": 415,
   "id": "0a1d4390",
   "metadata": {},
   "outputs": [
    {
     "data": {
      "text/plain": [
       "['        ...#',\n",
       " '        .#..',\n",
       " '        #...',\n",
       " '        ....',\n",
       " '...#.......#',\n",
       " '........#...',\n",
       " '..#....#....',\n",
       " '..........#.',\n",
       " '        ...#....',\n",
       " '        .....#..',\n",
       " '        .#......',\n",
       " '        ......#.']"
      ]
     },
     "execution_count": 415,
     "metadata": {},
     "output_type": "execute_result"
    }
   ],
   "source": [
    "new_map = Map(example_map)\n",
    "new_map.input_map"
   ]
  },
  {
   "cell_type": "code",
   "execution_count": null,
   "id": "236684f9",
   "metadata": {},
   "outputs": [],
   "source": []
  },
  {
   "cell_type": "code",
   "execution_count": 393,
   "id": "9bf84841",
   "metadata": {},
   "outputs": [],
   "source": [
    "directions_dict = {0:'>',90:'^',180:'<',270:'v'}\n",
    "\n",
    "class Board:\n",
    "    def __init__(self,input_map,input_directions):\n",
    "        self.map = Map(input_map)\n",
    "        self.directions = input_directions\n",
    "        self.current_position = None\n",
    "        self.current_orientation = None\n",
    "        self.visited_squares = []\n",
    "        \n",
    "    def gameboard(self):\n",
    "        grid_array = np.chararray((self.map.height,self.map.width),unicode=True)\n",
    "        for i in range(self.map.height):\n",
    "            for j in range(self.map.width):\n",
    "                if j < len(self.map[i]):\n",
    "                    grid_array[i][j] = self.map[i][j]\n",
    "        return grid_array\n",
    "    \n",
    "    def save_gameboard(self):\n",
    "        np.savetxt('aoc22gameboard.txt',self.gameboard(),fmt='%s')\n",
    "        \n",
    "    def rotate(self,direction):\n",
    "        if direction == 'L':\n",
    "            self.orientation += 90\n",
    "        elif direction == 'R':\n",
    "            self.orientation -= 90\n",
    "            \n",
    "    def next_square(self):\n",
    "        return (self.current_position[0] + np.cos(self.orientation), self.current_position[0] + np.sin(self.orientation))\n",
    "    def move_n_squares(self,n):\n",
    "        x = 0\n",
    "        while x < n:\n",
    "            i,j = self.next_square()\n",
    "            if self.map[i][j] == '.':\n",
    "                self.current_position = self.next_square()\n",
    "                self.visited_squares.append([self.current_position,self.orientation])\n",
    "                x +=1\n",
    "            elif self.map[i][j] == '#':\n",
    "                x = n\n",
    "            elif self.map[i][j] == '':\n",
    "                self.wraparound()\n",
    "                \n",
    "                "
   ]
  },
  {
   "cell_type": "code",
   "execution_count": 394,
   "id": "cf131833",
   "metadata": {},
   "outputs": [
    {
     "ename": "TypeError",
     "evalue": "'Map' object is not subscriptable",
     "output_type": "error",
     "traceback": [
      "\u001b[0;31m---------------------------------------------------------------------------\u001b[0m",
      "\u001b[0;31mTypeError\u001b[0m                                 Traceback (most recent call last)",
      "\u001b[0;32m/var/folders/z0/kb2dj7rs6pg9252qc6q3cclm0000gq/T/ipykernel_83258/161568698.py\u001b[0m in \u001b[0;36m<module>\u001b[0;34m\u001b[0m\n\u001b[1;32m      1\u001b[0m \u001b[0mboard\u001b[0m \u001b[0;34m=\u001b[0m \u001b[0mBoard\u001b[0m\u001b[0;34m(\u001b[0m\u001b[0mexample_map\u001b[0m\u001b[0;34m,\u001b[0m\u001b[0mexample_directions\u001b[0m\u001b[0;34m)\u001b[0m\u001b[0;34m\u001b[0m\u001b[0;34m\u001b[0m\u001b[0m\n\u001b[0;32m----> 2\u001b[0;31m \u001b[0mboard\u001b[0m\u001b[0;34m.\u001b[0m\u001b[0msave_gameboard\u001b[0m\u001b[0;34m(\u001b[0m\u001b[0;34m)\u001b[0m\u001b[0;34m\u001b[0m\u001b[0;34m\u001b[0m\u001b[0m\n\u001b[0m",
      "\u001b[0;32m/var/folders/z0/kb2dj7rs6pg9252qc6q3cclm0000gq/T/ipykernel_83258/441365914.py\u001b[0m in \u001b[0;36msave_gameboard\u001b[0;34m(self)\u001b[0m\n\u001b[1;32m     18\u001b[0m \u001b[0;34m\u001b[0m\u001b[0m\n\u001b[1;32m     19\u001b[0m     \u001b[0;32mdef\u001b[0m \u001b[0msave_gameboard\u001b[0m\u001b[0;34m(\u001b[0m\u001b[0mself\u001b[0m\u001b[0;34m)\u001b[0m\u001b[0;34m:\u001b[0m\u001b[0;34m\u001b[0m\u001b[0;34m\u001b[0m\u001b[0m\n\u001b[0;32m---> 20\u001b[0;31m         \u001b[0mnp\u001b[0m\u001b[0;34m.\u001b[0m\u001b[0msavetxt\u001b[0m\u001b[0;34m(\u001b[0m\u001b[0;34m'aoc22gameboard.txt'\u001b[0m\u001b[0;34m,\u001b[0m\u001b[0mself\u001b[0m\u001b[0;34m.\u001b[0m\u001b[0mgameboard\u001b[0m\u001b[0;34m(\u001b[0m\u001b[0;34m)\u001b[0m\u001b[0;34m,\u001b[0m\u001b[0mfmt\u001b[0m\u001b[0;34m=\u001b[0m\u001b[0;34m'%s'\u001b[0m\u001b[0;34m)\u001b[0m\u001b[0;34m\u001b[0m\u001b[0;34m\u001b[0m\u001b[0m\n\u001b[0m\u001b[1;32m     21\u001b[0m \u001b[0;34m\u001b[0m\u001b[0m\n\u001b[1;32m     22\u001b[0m     \u001b[0;32mdef\u001b[0m \u001b[0mrotate\u001b[0m\u001b[0;34m(\u001b[0m\u001b[0mself\u001b[0m\u001b[0;34m,\u001b[0m\u001b[0mdirection\u001b[0m\u001b[0;34m)\u001b[0m\u001b[0;34m:\u001b[0m\u001b[0;34m\u001b[0m\u001b[0;34m\u001b[0m\u001b[0m\n",
      "\u001b[0;32m/var/folders/z0/kb2dj7rs6pg9252qc6q3cclm0000gq/T/ipykernel_83258/441365914.py\u001b[0m in \u001b[0;36mgameboard\u001b[0;34m(self)\u001b[0m\n\u001b[1;32m     13\u001b[0m         \u001b[0;32mfor\u001b[0m \u001b[0mi\u001b[0m \u001b[0;32min\u001b[0m \u001b[0mrange\u001b[0m\u001b[0;34m(\u001b[0m\u001b[0mself\u001b[0m\u001b[0;34m.\u001b[0m\u001b[0mmap\u001b[0m\u001b[0;34m.\u001b[0m\u001b[0mheight\u001b[0m\u001b[0;34m)\u001b[0m\u001b[0;34m:\u001b[0m\u001b[0;34m\u001b[0m\u001b[0;34m\u001b[0m\u001b[0m\n\u001b[1;32m     14\u001b[0m             \u001b[0;32mfor\u001b[0m \u001b[0mj\u001b[0m \u001b[0;32min\u001b[0m \u001b[0mrange\u001b[0m\u001b[0;34m(\u001b[0m\u001b[0mself\u001b[0m\u001b[0;34m.\u001b[0m\u001b[0mmap\u001b[0m\u001b[0;34m.\u001b[0m\u001b[0mwidth\u001b[0m\u001b[0;34m)\u001b[0m\u001b[0;34m:\u001b[0m\u001b[0;34m\u001b[0m\u001b[0;34m\u001b[0m\u001b[0m\n\u001b[0;32m---> 15\u001b[0;31m                 \u001b[0;32mif\u001b[0m \u001b[0mj\u001b[0m \u001b[0;34m<\u001b[0m \u001b[0mlen\u001b[0m\u001b[0;34m(\u001b[0m\u001b[0mself\u001b[0m\u001b[0;34m.\u001b[0m\u001b[0mmap\u001b[0m\u001b[0;34m[\u001b[0m\u001b[0mi\u001b[0m\u001b[0;34m]\u001b[0m\u001b[0;34m)\u001b[0m\u001b[0;34m:\u001b[0m\u001b[0;34m\u001b[0m\u001b[0;34m\u001b[0m\u001b[0m\n\u001b[0m\u001b[1;32m     16\u001b[0m                     \u001b[0mgrid_array\u001b[0m\u001b[0;34m[\u001b[0m\u001b[0mi\u001b[0m\u001b[0;34m]\u001b[0m\u001b[0;34m[\u001b[0m\u001b[0mj\u001b[0m\u001b[0;34m]\u001b[0m \u001b[0;34m=\u001b[0m \u001b[0mself\u001b[0m\u001b[0;34m.\u001b[0m\u001b[0mmap\u001b[0m\u001b[0;34m[\u001b[0m\u001b[0mi\u001b[0m\u001b[0;34m]\u001b[0m\u001b[0;34m[\u001b[0m\u001b[0mj\u001b[0m\u001b[0;34m]\u001b[0m\u001b[0;34m\u001b[0m\u001b[0;34m\u001b[0m\u001b[0m\n\u001b[1;32m     17\u001b[0m         \u001b[0;32mreturn\u001b[0m \u001b[0mgrid_array\u001b[0m\u001b[0;34m\u001b[0m\u001b[0;34m\u001b[0m\u001b[0m\n",
      "\u001b[0;31mTypeError\u001b[0m: 'Map' object is not subscriptable"
     ]
    }
   ],
   "source": [
    "board = Board(example_map,example_directions)\n",
    "board.save_gameboard()"
   ]
  },
  {
   "cell_type": "code",
   "execution_count": 392,
   "id": "d3c61468",
   "metadata": {},
   "outputs": [
    {
     "data": {
      "text/plain": [
       "['        ...#',\n",
       " '        .#..',\n",
       " '        #...',\n",
       " '        ....',\n",
       " '...#.......#',\n",
       " '........#...',\n",
       " '..#....#....',\n",
       " '..........#.',\n",
       " '        ...#....',\n",
       " '        .....#..',\n",
       " '        .#......',\n",
       " '        ......#.']"
      ]
     },
     "execution_count": 392,
     "metadata": {},
     "output_type": "execute_result"
    }
   ],
   "source": [
    "example_map"
   ]
  },
  {
   "cell_type": "code",
   "execution_count": 384,
   "id": "02c39d13",
   "metadata": {},
   "outputs": [
    {
     "data": {
      "text/plain": [
       "['....',\n",
       " '....',\n",
       " '..#.',\n",
       " '#...',\n",
       " '....',\n",
       " '....',\n",
       " '....',\n",
       " '..#.',\n",
       " '..#..#......',\n",
       " '.#........#.',\n",
       " '.......#....',\n",
       " '#...#...#...',\n",
       " '....',\n",
       " '.#..',\n",
       " '...#',\n",
       " '....']"
      ]
     },
     "execution_count": 384,
     "metadata": {},
     "output_type": "execute_result"
    }
   ],
   "source": [
    "[''.join([board.gameboard()[i][j] for i in range(board.map_height)]) for j in range(board.map_width)]"
   ]
  },
  {
   "cell_type": "code",
   "execution_count": 375,
   "id": "a1d11242",
   "metadata": {},
   "outputs": [
    {
     "data": {
      "text/plain": [
       "['...#',\n",
       " '.#..',\n",
       " '#...',\n",
       " '....',\n",
       " '...#.......#',\n",
       " '........#...',\n",
       " '..#....#....',\n",
       " '..........#.',\n",
       " '...#....',\n",
       " '.....#..',\n",
       " '.#......',\n",
       " '......#.']"
      ]
     },
     "execution_count": 375,
     "metadata": {},
     "output_type": "execute_result"
    }
   ],
   "source": [
    "[map_line.strip() for map_line in example_map]"
   ]
  },
  {
   "cell_type": "code",
   "execution_count": 351,
   "id": "81ed49fd",
   "metadata": {},
   "outputs": [
    {
     "data": {
      "text/plain": [
       "['        ...#',\n",
       " '        .#..',\n",
       " '        #...',\n",
       " '        ....',\n",
       " '...#.......#',\n",
       " '........#...',\n",
       " '..#....#....',\n",
       " '..........#.',\n",
       " '        ...#....',\n",
       " '        .....#..',\n",
       " '        .#......',\n",
       " '        ......#.']"
      ]
     },
     "execution_count": 351,
     "metadata": {},
     "output_type": "execute_result"
    }
   ],
   "source": [
    "example_map"
   ]
  }
 ],
 "metadata": {
  "kernelspec": {
   "display_name": "Python 3 (ipykernel)",
   "language": "python",
   "name": "python3"
  },
  "language_info": {
   "codemirror_mode": {
    "name": "ipython",
    "version": 3
   },
   "file_extension": ".py",
   "mimetype": "text/x-python",
   "name": "python",
   "nbconvert_exporter": "python",
   "pygments_lexer": "ipython3",
   "version": "3.7.7"
  }
 },
 "nbformat": 4,
 "nbformat_minor": 5
}
