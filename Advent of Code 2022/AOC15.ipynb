{
 "cells": [
  {
   "cell_type": "code",
   "execution_count": 146,
   "id": "288b908d",
   "metadata": {},
   "outputs": [],
   "source": [
    "import numpy as np\n",
    "from itertools import chain\n",
    "import re\n",
    "from tqdm import tqdm"
   ]
  },
  {
   "cell_type": "code",
   "execution_count": 147,
   "id": "189cec54",
   "metadata": {},
   "outputs": [],
   "source": [
    "from math import sqrt\n",
    "\n",
    "def manhattan(a, b):\n",
    "    return sum(abs(val1-val2) for val1, val2 in zip(a,b))"
   ]
  },
  {
   "cell_type": "code",
   "execution_count": 148,
   "id": "c1a301cb",
   "metadata": {},
   "outputs": [],
   "source": [
    "with open('aoc15_input_example.txt') as f:\n",
    "    lines = f.readlines()\n",
    "lines = [line.strip().split(':') for line in lines]\n",
    "lines = [[list(map(int,re.findall(r'-?\\d+', string))) for string in line] for line in lines]\n",
    "example_input = lines\n",
    "example_input\n",
    "with open('aoc15_input.txt') as f:\n",
    "    lines = f.readlines()\n",
    "lines = [line.strip().split(':') for line in lines]\n",
    "lines = [[list(map(int,re.findall(r'-?\\d+', string))) for string in line] for line in lines]\n",
    "real_input = lines"
   ]
  },
  {
   "cell_type": "code",
   "execution_count": 149,
   "id": "508cf144",
   "metadata": {},
   "outputs": [],
   "source": [
    "def flexible_range(i):\n",
    "    if i == 0:\n",
    "        return [0]\n",
    "    elif i > 0:\n",
    "        return range(i+1)\n",
    "    else:\n",
    "        return range(0,i-1,-1)"
   ]
  },
  {
   "cell_type": "code",
   "execution_count": 253,
   "id": "67551b42",
   "metadata": {},
   "outputs": [
    {
     "name": "stdout",
     "output_type": "stream",
     "text": [
      "[(3482210, 422224), (3679395, 2737332), (3173475, 3948494), (27235, 3642190), (3851721, 1754784), (327074, 3250656), (3499970, 3186179), (150736, 2522778), (3000768, 3333983), (1751302, 1660540), (2591068, 2923079), (48946, 3999178), (3695475, 3863101), (1504031, 2760), (3021186, 2667125), (1514629, 3771171), (234064, 616106), (3990843, 3393575), (768875, 2665271)]\n",
      "[(2273934, -202439), (4104213, 2980736), (3494250, 3554521), (-190885, 3635525), (3145586, 2167751), (-190885, 3635525), (3494250, 3554521), (-85806, 2000000), (2564067, 3163630), (3145586, 2167751), (2564067, 3163630), (-190885, 3635525), (3494250, 3554521), (2273934, -202439), (3145586, 2167751), (2564067, 3163630), (-85806, 2000000), (4104213, 2980736), (-85806, 2000000)]\n"
     ]
    }
   ],
   "source": [
    "# lines = example_input\n",
    "lines = real_input\n",
    "\n",
    "sensors = [tuple(line[0]) for line in lines]\n",
    "beacons = [tuple(line[1]) for line in lines]\n",
    "print(sensors)\n",
    "print(beacons)"
   ]
  },
  {
   "cell_type": "code",
   "execution_count": 179,
   "id": "1e4db66c",
   "metadata": {},
   "outputs": [
    {
     "data": {
      "text/plain": [
       "(0, 20, 0, 20)"
      ]
     },
     "execution_count": 179,
     "metadata": {},
     "output_type": "execute_result"
    }
   ],
   "source": [
    "def get_coords(puzzle_input):\n",
    "    all_coords = puzzle_input\n",
    "    min_x = min([coord[0] for coord in all_coords])\n",
    "    min_y = min([coord[1] for coord in all_coords])\n",
    "    max_x = max([coord[0] for coord in all_coords])\n",
    "    max_y = max([coord[1] for coord in all_coords])\n",
    "    return min_x, max_x, min_y, max_y\n",
    "get_coords(sensors)"
   ]
  },
  {
   "cell_type": "code",
   "execution_count": 180,
   "id": "524f09af",
   "metadata": {},
   "outputs": [
    {
     "data": {
      "text/plain": [
       "(-2, 25, 3, 22)"
      ]
     },
     "execution_count": 180,
     "metadata": {},
     "output_type": "execute_result"
    }
   ],
   "source": [
    "get_coords(beacons)"
   ]
  },
  {
   "cell_type": "code",
   "execution_count": 153,
   "id": "24804f2b",
   "metadata": {},
   "outputs": [
    {
     "name": "stdout",
     "output_type": "stream",
     "text": [
      "4811413\n",
      "4811413\n",
      "4811413\n",
      "4811413\n",
      "4811413\n",
      "4811413\n",
      "4811413\n",
      "4811413\n",
      "831 ms ± 15.2 ms per loop (mean ± std. dev. of 7 runs, 1 loop each)\n"
     ]
    }
   ],
   "source": [
    "soln_row = 2000000\n",
    "sensor_set = {tuple(coord) for coord in sensors}\n",
    "beacon_set = {tuple(coord) for coord in beacons}\n",
    "excluded_ranges = set([])\n",
    "excluded_beacons = set([])\n",
    "for coord in sensor_set.union(beacon_set):\n",
    "    if coord[1] == soln_row:\n",
    "        excluded_beacons.add(coord)\n",
    "num_excluded_beacons = len(excluded_beacons)\n",
    "# print(num_excluded_beacons)\n",
    "for beacon, sensor in zip(beacons,sensors):\n",
    "    mdist = abs(sensor[0] - beacon[0]) + abs(sensor[1] - beacon[1])\n",
    "    vdist_from_soln = abs(sensor[1] - soln_row)\n",
    "#     print(sensor, \"Y distance from\",beacon,'is',mdist)\n",
    "#     print(\"Row\", soln_row, \"distances from\",sensor,'is',vdist_from_soln)\n",
    "    if vdist_from_soln <= mdist:\n",
    "        xrange_soln = mdist - vdist_from_soln\n",
    "#         print(\"Additional manhattan distance for\",sensor,'is',xrange_soln)\n",
    "        excluded_ranges.add((int(sensor[0]-xrange_soln),int(sensor[0]+xrange_soln)))\n",
    "#         print(\"Row\", soln_row,  \" X Range is:\", (int(sensor[0]-xrange_soln),int(sensor[0]+xrange_soln)))\n",
    "# print(excluded_ranges)\n",
    "excluded_columns = set()\n",
    "for xrange in excluded_ranges:\n",
    "#     print(xrange)\n",
    "    for i in range(xrange[0],xrange[1]+1):\n",
    "        excluded_columns.add(i)\n",
    "# print(excluded_columns)\n",
    "print(len(excluded_columns) - num_excluded_beacons)"
   ]
  },
  {
   "cell_type": "markdown",
   "id": "b2ffb6c7",
   "metadata": {},
   "source": [
    "## Part 2"
   ]
  },
  {
   "cell_type": "code",
   "execution_count": 254,
   "id": "2421625c",
   "metadata": {},
   "outputs": [],
   "source": [
    "\n",
    "def is_beacon(coord):\n",
    "    if coord in sensor_set or coord in beacon_set:\n",
    "        return False\n",
    "    for sensor,distance in zip(sensors,distances):\n",
    "        if distance >= abs(sensor[0] - coord[0]) + abs(sensor[1] - coord[1]):\n",
    "#             print(sensor)\n",
    "#             print(beacon)\n",
    "#             print(distance)\n",
    "#             print(abs(sensor[0] - coord[0]) + abs(sensor[1] - coord[1]))\n",
    "            return False\n",
    "    return True"
   ]
  },
  {
   "cell_type": "code",
   "execution_count": 255,
   "id": "4a08fd57",
   "metadata": {},
   "outputs": [
    {
     "data": {
      "text/plain": [
       "{(3482210, 422224): [(3851721, 1754784),\n",
       "  (1751302, 1660540),\n",
       "  (1504031, 2760),\n",
       "  (234064, 616106)],\n",
       " (3679395, 2737332): [(3851721, 1754784),\n",
       "  (3499970, 3186179),\n",
       "  (3695475, 3863101),\n",
       "  (3021186, 2667125),\n",
       "  (3990843, 3393575)],\n",
       " (3173475, 3948494): [(3000768, 3333983),\n",
       "  (3695475, 3863101),\n",
       "  (1514629, 3771171)],\n",
       " (27235, 3642190): [(327074, 3250656),\n",
       "  (48946, 3999178),\n",
       "  (1514629, 3771171),\n",
       "  (768875, 2665271)],\n",
       " (3851721, 1754784): [(3482210, 422224),\n",
       "  (3679395, 2737332),\n",
       "  (1751302, 1660540)],\n",
       " (327074, 3250656): [(27235, 3642190),\n",
       "  (150736, 2522778),\n",
       "  (48946, 3999178),\n",
       "  (1514629, 3771171),\n",
       "  (768875, 2665271)],\n",
       " (3499970, 3186179): [(3679395, 2737332),\n",
       "  (3000768, 3333983),\n",
       "  (3695475, 3863101),\n",
       "  (3990843, 3393575)],\n",
       " (150736, 2522778): [(327074, 3250656),\n",
       "  (1751302, 1660540),\n",
       "  (234064, 616106),\n",
       "  (768875, 2665271)],\n",
       " (3000768, 3333983): [(3173475, 3948494),\n",
       "  (3499970, 3186179),\n",
       "  (2591068, 2923079),\n",
       "  (3021186, 2667125),\n",
       "  (1514629, 3771171),\n",
       "  (3990843, 3393575)],\n",
       " (1751302, 1660540): [(3482210, 422224),\n",
       "  (3851721, 1754784),\n",
       "  (150736, 2522778),\n",
       "  (2591068, 2923079),\n",
       "  (1504031, 2760),\n",
       "  (3021186, 2667125),\n",
       "  (1514629, 3771171),\n",
       "  (234064, 616106),\n",
       "  (768875, 2665271)],\n",
       " (2591068, 2923079): [(3000768, 3333983),\n",
       "  (1751302, 1660540),\n",
       "  (3021186, 2667125)],\n",
       " (48946, 3999178): [(27235, 3642190),\n",
       "  (327074, 3250656),\n",
       "  (1514629, 3771171),\n",
       "  (768875, 2665271)],\n",
       " (3695475, 3863101): [(3679395, 2737332),\n",
       "  (3173475, 3948494),\n",
       "  (3499970, 3186179),\n",
       "  (3990843, 3393575)],\n",
       " (1504031, 2760): [(3482210, 422224), (1751302, 1660540), (234064, 616106)],\n",
       " (3021186, 2667125): [(3679395, 2737332),\n",
       "  (3000768, 3333983),\n",
       "  (1751302, 1660540),\n",
       "  (2591068, 2923079)],\n",
       " (1514629, 3771171): [(3173475, 3948494),\n",
       "  (27235, 3642190),\n",
       "  (327074, 3250656),\n",
       "  (3000768, 3333983),\n",
       "  (1751302, 1660540),\n",
       "  (48946, 3999178),\n",
       "  (768875, 2665271)],\n",
       " (234064, 616106): [(3482210, 422224),\n",
       "  (150736, 2522778),\n",
       "  (1751302, 1660540),\n",
       "  (1504031, 2760),\n",
       "  (768875, 2665271)],\n",
       " (3990843, 3393575): [(3679395, 2737332),\n",
       "  (3499970, 3186179),\n",
       "  (3000768, 3333983),\n",
       "  (3695475, 3863101)],\n",
       " (768875, 2665271): [(27235, 3642190),\n",
       "  (327074, 3250656),\n",
       "  (150736, 2522778),\n",
       "  (1751302, 1660540),\n",
       "  (48946, 3999178),\n",
       "  (1514629, 3771171),\n",
       "  (234064, 616106)]}"
      ]
     },
     "execution_count": 255,
     "metadata": {},
     "output_type": "execute_result"
    }
   ],
   "source": [
    "from tqdm import tqdm\n",
    "distances = []\n",
    "for beacon, sensor in zip(beacons,sensors):\n",
    "    distances.append(abs(sensor[0] - beacon[0]) + abs(sensor[1] - beacon[1]))\n",
    "# print(beacons,sensors,distances)\n",
    "non_overlapping_sensors = {}\n",
    "for sensor1, distance1 in zip(sensors,distances):\n",
    "    non_overlapping_sensors[sensor1] = []\n",
    "    for sensor2, distance2 in zip(sensors,distances):\n",
    "        if sensor1 != sensor2:\n",
    "            mdist = sum(abs(np.array(sensor1)-np.array(sensor2)))\n",
    "#             print(mdist - (distance1 + distance2))\n",
    "            if mdist - distance1 - distance2 < 0:\n",
    "                non_overlapping_sensors[sensor1].append(sensor2)\n",
    "                \n",
    "non_overlapping_sensors"
   ]
  },
  {
   "cell_type": "code",
   "execution_count": 256,
   "id": "5576fa4b",
   "metadata": {
    "scrolled": true
   },
   "outputs": [
    {
     "name": "stderr",
     "output_type": "stream",
     "text": [
      "2it [00:12,  5.65s/it]"
     ]
    },
    {
     "name": "stdout",
     "output_type": "stream",
     "text": [
      "(3292963, 3019123)\n"
     ]
    },
    {
     "name": "stderr",
     "output_type": "stream",
     "text": [
      "7it [00:37,  4.84s/it]"
     ]
    },
    {
     "name": "stdout",
     "output_type": "stream",
     "text": [
      "(3292963, 3019123)\n"
     ]
    },
    {
     "name": "stderr",
     "output_type": "stream",
     "text": [
      "9it [00:48,  5.14s/it]"
     ]
    },
    {
     "name": "stdout",
     "output_type": "stream",
     "text": [
      "(3292963, 3019123)\n"
     ]
    },
    {
     "name": "stderr",
     "output_type": "stream",
     "text": [
      "9it [01:07,  7.53s/it]\n"
     ]
    },
    {
     "ename": "KeyboardInterrupt",
     "evalue": "",
     "output_type": "error",
     "traceback": [
      "\u001b[0;31m---------------------------------------------------------------------------\u001b[0m",
      "\u001b[0;31mKeyboardInterrupt\u001b[0m                         Traceback (most recent call last)",
      "\u001b[0;32m/var/folders/z0/kb2dj7rs6pg9252qc6q3cclm0000gq/T/ipykernel_22781/1159718831.py\u001b[0m in \u001b[0;36m<module>\u001b[0;34m\u001b[0m\n\u001b[1;32m     21\u001b[0m         \u001b[0mj\u001b[0m \u001b[0;34m=\u001b[0m \u001b[0msensor\u001b[0m\u001b[0;34m[\u001b[0m\u001b[0;36m1\u001b[0m\u001b[0;34m]\u001b[0m \u001b[0;34m+\u001b[0m \u001b[0mp\u001b[0m\u001b[0;34m\u001b[0m\u001b[0;34m\u001b[0m\u001b[0m\n\u001b[1;32m     22\u001b[0m         \u001b[0;32mif\u001b[0m \u001b[0;36m0\u001b[0m \u001b[0;34m<\u001b[0m \u001b[0mi\u001b[0m \u001b[0;34m<\u001b[0m \u001b[0mwindow\u001b[0m \u001b[0;32mand\u001b[0m \u001b[0;36m0\u001b[0m \u001b[0;34m<\u001b[0m \u001b[0mj\u001b[0m \u001b[0;34m<\u001b[0m \u001b[0mwindow\u001b[0m\u001b[0;34m:\u001b[0m\u001b[0;34m\u001b[0m\u001b[0;34m\u001b[0m\u001b[0m\n\u001b[0;32m---> 23\u001b[0;31m             \u001b[0;32mif\u001b[0m \u001b[0mis_beacon\u001b[0m\u001b[0;34m(\u001b[0m\u001b[0;34m(\u001b[0m\u001b[0mi\u001b[0m\u001b[0;34m,\u001b[0m\u001b[0mj\u001b[0m\u001b[0;34m)\u001b[0m\u001b[0;34m)\u001b[0m\u001b[0;34m:\u001b[0m\u001b[0;34m\u001b[0m\u001b[0;34m\u001b[0m\u001b[0m\n\u001b[0m\u001b[1;32m     24\u001b[0m                 \u001b[0mprint\u001b[0m\u001b[0;34m(\u001b[0m\u001b[0;34m(\u001b[0m\u001b[0mi\u001b[0m\u001b[0;34m,\u001b[0m\u001b[0mj\u001b[0m\u001b[0;34m)\u001b[0m\u001b[0;34m)\u001b[0m\u001b[0;34m\u001b[0m\u001b[0;34m\u001b[0m\u001b[0m\n\u001b[1;32m     25\u001b[0m                 \u001b[0;32mbreak\u001b[0m\u001b[0;34m\u001b[0m\u001b[0;34m\u001b[0m\u001b[0m\n",
      "\u001b[0;32m/var/folders/z0/kb2dj7rs6pg9252qc6q3cclm0000gq/T/ipykernel_22781/3677568203.py\u001b[0m in \u001b[0;36mis_beacon\u001b[0;34m(coord)\u001b[0m\n\u001b[1;32m      2\u001b[0m     \u001b[0;32mif\u001b[0m \u001b[0mcoord\u001b[0m \u001b[0;32min\u001b[0m \u001b[0msensor_set\u001b[0m \u001b[0;32mor\u001b[0m \u001b[0mcoord\u001b[0m \u001b[0;32min\u001b[0m \u001b[0mbeacon_set\u001b[0m\u001b[0;34m:\u001b[0m\u001b[0;34m\u001b[0m\u001b[0;34m\u001b[0m\u001b[0m\n\u001b[1;32m      3\u001b[0m         \u001b[0;32mreturn\u001b[0m \u001b[0;32mFalse\u001b[0m\u001b[0;34m\u001b[0m\u001b[0;34m\u001b[0m\u001b[0m\n\u001b[0;32m----> 4\u001b[0;31m     \u001b[0;32mfor\u001b[0m \u001b[0msensor\u001b[0m\u001b[0;34m,\u001b[0m\u001b[0mdistance\u001b[0m \u001b[0;32min\u001b[0m \u001b[0mzip\u001b[0m\u001b[0;34m(\u001b[0m\u001b[0msensors\u001b[0m\u001b[0;34m,\u001b[0m\u001b[0mdistances\u001b[0m\u001b[0;34m)\u001b[0m\u001b[0;34m:\u001b[0m\u001b[0;34m\u001b[0m\u001b[0;34m\u001b[0m\u001b[0m\n\u001b[0m\u001b[1;32m      5\u001b[0m         \u001b[0;32mif\u001b[0m \u001b[0mdistance\u001b[0m \u001b[0;34m>=\u001b[0m \u001b[0mabs\u001b[0m\u001b[0;34m(\u001b[0m\u001b[0msensor\u001b[0m\u001b[0;34m[\u001b[0m\u001b[0;36m0\u001b[0m\u001b[0;34m]\u001b[0m \u001b[0;34m-\u001b[0m \u001b[0mcoord\u001b[0m\u001b[0;34m[\u001b[0m\u001b[0;36m0\u001b[0m\u001b[0;34m]\u001b[0m\u001b[0;34m)\u001b[0m \u001b[0;34m+\u001b[0m \u001b[0mabs\u001b[0m\u001b[0;34m(\u001b[0m\u001b[0msensor\u001b[0m\u001b[0;34m[\u001b[0m\u001b[0;36m1\u001b[0m\u001b[0;34m]\u001b[0m \u001b[0;34m-\u001b[0m \u001b[0mcoord\u001b[0m\u001b[0;34m[\u001b[0m\u001b[0;36m1\u001b[0m\u001b[0;34m]\u001b[0m\u001b[0;34m)\u001b[0m\u001b[0;34m:\u001b[0m\u001b[0;34m\u001b[0m\u001b[0;34m\u001b[0m\u001b[0m\n\u001b[1;32m      6\u001b[0m \u001b[0;31m#             print(sensor)\u001b[0m\u001b[0;34m\u001b[0m\u001b[0;34m\u001b[0m\u001b[0;34m\u001b[0m\u001b[0m\n",
      "\u001b[0;31mKeyboardInterrupt\u001b[0m: "
     ]
    }
   ],
   "source": [
    "iterations = []\n",
    "window = 4000000\n",
    "for sensor, distance in tqdm(zip(sensors,distances)):\n",
    "#     print(sensor,distance)\n",
    "    perimeter = distance + 1\n",
    "    for p in range(0,perimeter+1):\n",
    "        i = sensor[0] - perimeter + p\n",
    "        j = sensor[1] - p\n",
    "        if 0 < i < window and 0 < j < window:\n",
    "            if is_beacon((i,j)):\n",
    "                print((i,j))\n",
    "                break\n",
    "        i = sensor[0] + perimeter - p\n",
    "        j = sensor[1] - p\n",
    "        if 0 < i < window and 0 < j < window:\n",
    "            if is_beacon((i,j)):\n",
    "                print((i,j))\n",
    "                break\n",
    "        \n",
    "        i = sensor[0] - perimeter + p\n",
    "        j = sensor[1] + p\n",
    "        if 0 < i < window and 0 < j < window:\n",
    "            if is_beacon((i,j)):\n",
    "                print((i,j))\n",
    "                break\n",
    "        i = sensor[0] + perimeter - p\n",
    "        j = sensor[1] + p\n",
    "        if 0 < i < window and 0 < j < window:\n",
    "            if is_beacon((i,j)):\n",
    "                print((i,j))\n",
    "                break\n",
    "        "
   ]
  },
  {
   "cell_type": "code",
   "execution_count": 257,
   "id": "dac13094",
   "metadata": {},
   "outputs": [
    {
     "data": {
      "text/plain": [
       "13171855019123"
      ]
     },
     "execution_count": 257,
     "metadata": {},
     "output_type": "execute_result"
    }
   ],
   "source": [
    "3292963*4000000 + 3019123"
   ]
  },
  {
   "cell_type": "code",
   "execution_count": 245,
   "id": "5c0c4ff4",
   "metadata": {},
   "outputs": [],
   "source": [
    "grid = np.chararray((50,50),unicode=True)\n",
    "grid[:] = '.'"
   ]
  },
  {
   "cell_type": "code",
   "execution_count": null,
   "id": "b7d53a07",
   "metadata": {},
   "outputs": [],
   "source": [
    "3292963*4000000 + 3019123"
   ]
  },
  {
   "cell_type": "code",
   "execution_count": 246,
   "id": "f3abb9e0",
   "metadata": {},
   "outputs": [],
   "source": [
    "for beacon in beacons:\n",
    "    i,j = np.array(beacon)\n",
    "    grid[j][i] = 'B'\n",
    "for sensor in sensors:\n",
    "    i,j = np.array(sensor)\n",
    "    grid[j][i] = 'S'\n",
    "np.savetxt('aoc15_output_example.txt',grid,fmt='%s')\n"
   ]
  },
  {
   "cell_type": "code",
   "execution_count": 248,
   "id": "f2a6732b",
   "metadata": {},
   "outputs": [
    {
     "name": "stderr",
     "output_type": "stream",
     "text": [
      "14it [00:00, 18862.92it/s]"
     ]
    },
    {
     "name": "stdout",
     "output_type": "stream",
     "text": [
      "(2, 18) 7\n",
      "(9, 16) 1\n",
      "(13, 2) 3\n",
      "(12, 14) 4\n",
      "(10, 20) 4\n",
      "(14, 17) 5\n",
      "(8, 7) 9\n",
      "(2, 0) 10\n",
      "(0, 11) 3\n",
      "(20, 14) 8\n",
      "(17, 20) 6\n",
      "(16, 7) 5\n",
      "(14, 3) 1\n",
      "(20, 1) 7\n"
     ]
    },
    {
     "name": "stderr",
     "output_type": "stream",
     "text": [
      "\n"
     ]
    }
   ],
   "source": [
    "for beacon, sensor,in zip(beacons,sensors):\n",
    "#     print(sensor,beacon)\n",
    "    mdist = abs(sensor[0] - beacon[0]) + abs(sensor[1] - beacon[1])\n",
    "#     print(mdist)\n",
    "    for j in range(sensor[1] - mdist -5,sensor[1]+mdist+5):\n",
    "        for i in range(sensor[0] - mdist -5,sensor[0]+mdist+5):\n",
    "            location = np.array([i,j])\n",
    "            if (sum(abs(sensor - location)) <= mdist) and grid[j][i] == '.':\n",
    "                grid[j][i] = '#'\n",
    "\n",
    "iterations = []\n",
    "window = 20\n",
    "for sensor, distance in tqdm(zip(sensors,distances)):\n",
    "    print(sensor,distance)\n",
    "    perimeter = distance + 1\n",
    "    for p in range(0,perimeter+1):\n",
    "        i = sensor[0] - perimeter + p\n",
    "        j = sensor[1] - p\n",
    "        grid[j][i] = 'X'\n",
    "        i = sensor[0] + perimeter - p\n",
    "        j = sensor[1] - p\n",
    "        grid[j][i] = 'X'\n",
    "        \n",
    "        i = sensor[0] - perimeter + p\n",
    "        j = sensor[1] + p\n",
    "        grid[j][i] = 'X'\n",
    "        i = sensor[0] + perimeter - p\n",
    "        j = sensor[1] + p\n",
    "        grid[j][i] = 'X'\n",
    "\n",
    "        \n",
    "np.savetxt('aoc15_output_example.txt',grid,fmt='%s')"
   ]
  },
  {
   "cell_type": "code",
   "execution_count": null,
   "id": "5b26a9d2",
   "metadata": {},
   "outputs": [],
   "source": [
    "sensor, beacon, distance =np.array([8, 7]), np.array([ 2, 10]), np.array([ 6, -3])\n",
    "print(sensor,beacon,np.array(distance))\n",
    "mdist = sum(abs(distance))\n",
    "print(mdist)\n",
    "for j in range(len(grid)):\n",
    "    for i in range(len(grid[j])):\n",
    "        location = np.array([i,j])\n",
    "        if (sum(abs(sensor - location)) <= mdist) and grid[j][i] == '.':\n",
    "            grid[j][i] = '#'"
   ]
  },
  {
   "cell_type": "code",
   "execution_count": null,
   "id": "1737fb94",
   "metadata": {},
   "outputs": [],
   "source": [
    "np.savetxt('aoc15_output_example.txt',grid,fmt='%s')"
   ]
  },
  {
   "cell_type": "code",
   "execution_count": null,
   "id": "c4d0d4c3",
   "metadata": {},
   "outputs": [],
   "source": []
  },
  {
   "cell_type": "code",
   "execution_count": 28,
   "id": "bab29835",
   "metadata": {},
   "outputs": [
    {
     "name": "stdout",
     "output_type": "stream",
     "text": [
      "34\n",
      "34\n",
      "32\n",
      "29\n",
      "29\n",
      "27\n",
      "25\n",
      "21\n",
      "23\n",
      "25\n",
      "26\n",
      "27\n",
      "28\n",
      "26\n",
      "22\n",
      "21\n",
      "20\n",
      "20\n",
      "23\n",
      "22\n",
      "19\n",
      "17\n",
      "13\n",
      "10\n",
      "6\n",
      "3\n",
      "1\n",
      "0\n",
      "0\n",
      "0\n",
      "0\n",
      "0\n",
      "0\n",
      "0\n",
      "0\n",
      "0\n",
      "0\n",
      "0\n",
      "0\n",
      "0\n",
      "1\n",
      "3\n",
      "5\n",
      "7\n",
      "10\n",
      "14\n",
      "18\n",
      "22\n",
      "26\n",
      "31\n"
     ]
    }
   ],
   "source": [
    "for row in grid:\n",
    "    print(sum(np.char.count(row, '#')))"
   ]
  },
  {
   "cell_type": "code",
   "execution_count": 66,
   "id": "c1c83de2",
   "metadata": {},
   "outputs": [],
   "source": [
    "def search_space(max):\n",
    "    for i in range(max):\n",
    "        for j in range(max):\n",
    "            yield (i,j)\n"
   ]
  },
  {
   "cell_type": "code",
   "execution_count": 86,
   "id": "2efd55e3",
   "metadata": {},
   "outputs": [
    {
     "data": {
      "text/plain": [
       "(0, 0)"
      ]
     },
     "execution_count": 86,
     "metadata": {},
     "output_type": "execute_result"
    }
   ],
   "source": [
    "i = search_space(3)\n",
    "next(i)"
   ]
  },
  {
   "cell_type": "code",
   "execution_count": 96,
   "id": "7c64b232",
   "metadata": {},
   "outputs": [
    {
     "ename": "StopIteration",
     "evalue": "",
     "output_type": "error",
     "traceback": [
      "\u001b[0;31m---------------------------------------------------------------------------\u001b[0m",
      "\u001b[0;31mStopIteration\u001b[0m                             Traceback (most recent call last)",
      "\u001b[0;32m/var/folders/z0/kb2dj7rs6pg9252qc6q3cclm0000gq/T/ipykernel_22781/1939748483.py\u001b[0m in \u001b[0;36m<module>\u001b[0;34m\u001b[0m\n\u001b[0;32m----> 1\u001b[0;31m \u001b[0mnext\u001b[0m\u001b[0;34m(\u001b[0m\u001b[0mi\u001b[0m\u001b[0;34m)\u001b[0m\u001b[0;34m\u001b[0m\u001b[0;34m\u001b[0m\u001b[0m\n\u001b[0m",
      "\u001b[0;31mStopIteration\u001b[0m: "
     ]
    }
   ],
   "source": []
  },
  {
   "cell_type": "code",
   "execution_count": null,
   "id": "68e0d732",
   "metadata": {},
   "outputs": [],
   "source": []
  }
 ],
 "metadata": {
  "kernelspec": {
   "display_name": "Python 3 (ipykernel)",
   "language": "python",
   "name": "python3"
  },
  "language_info": {
   "codemirror_mode": {
    "name": "ipython",
    "version": 3
   },
   "file_extension": ".py",
   "mimetype": "text/x-python",
   "name": "python",
   "nbconvert_exporter": "python",
   "pygments_lexer": "ipython3",
   "version": "3.7.7"
  }
 },
 "nbformat": 4,
 "nbformat_minor": 5
}
