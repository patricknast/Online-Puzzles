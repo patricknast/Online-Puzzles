{
 "cells": [
  {
   "cell_type": "code",
   "execution_count": 13,
   "id": "f2a64cdd",
   "metadata": {},
   "outputs": [],
   "source": [
    "outcomes = {\n",
    "    'X':0,\n",
    "    'Y':3,\n",
    "    'Z':6\n",
    "}\n",
    "#ROCK: 1\n",
    "#PAPER: 2\n",
    "#SCISSORS: 3\n",
    "outcomes = {\n",
    "#ROCK\n",
    "'A':{\n",
    "    'X':3, #S\n",
    "    'Y':1, #R\n",
    "    'Z':2, #P\n",
    "},\n",
    "#PAPER\n",
    "'B':{\n",
    "    'X':, #R\n",
    "    'Y':2, #P\n",
    "    'Z':, #S\n",
    "},\n",
    "    #SCISSORS\n",
    "'C':{\n",
    "    'X':, #P\n",
    "    'Y':3, #S\n",
    "    'Z':, #R\n",
    "}\n",
    "}\n"
   ]
  },
  {
   "cell_type": "code",
   "execution_count": 16,
   "id": "b4db1920",
   "metadata": {},
   "outputs": [
    {
     "data": {
      "text/plain": [
       "6"
      ]
     },
     "execution_count": 16,
     "metadata": {},
     "output_type": "execute_result"
    }
   ],
   "source": [
    "def score(A,B):\n",
    "    return shape_scores[A][B] + outcomes[B]\n",
    "score('C','Z')"
   ]
  },
  {
   "cell_type": "code",
   "execution_count": 17,
   "id": "71ce5beb",
   "metadata": {},
   "outputs": [],
   "source": [
    "import numpy as np\n"
   ]
  },
  {
   "cell_type": "code",
   "execution_count": 25,
   "id": "5283c04e",
   "metadata": {},
   "outputs": [],
   "source": [
    "input_values = np.genfromtxt('aoc2.txt',dtype=None,encoding=None)"
   ]
  },
  {
   "cell_type": "code",
   "execution_count": 28,
   "id": "82585ae9",
   "metadata": {},
   "outputs": [
    {
     "data": {
      "text/plain": [
       "12855"
      ]
     },
     "execution_count": 28,
     "metadata": {},
     "output_type": "execute_result"
    }
   ],
   "source": [
    "score_sum = []\n",
    "for row in input_values:\n",
    "    score_sum.append(score(row[0],row[1]))\n",
    "np.sum(score_sum)"
   ]
  },
  {
   "cell_type": "code",
   "execution_count": null,
   "id": "8298006a",
   "metadata": {},
   "outputs": [],
   "source": []
  }
 ],
 "metadata": {
  "kernelspec": {
   "display_name": "Python 3 (ipykernel)",
   "language": "python",
   "name": "python3"
  },
  "language_info": {
   "codemirror_mode": {
    "name": "ipython",
    "version": 3
   },
   "file_extension": ".py",
   "mimetype": "text/x-python",
   "name": "python",
   "nbconvert_exporter": "python",
   "pygments_lexer": "ipython3",
   "version": "3.7.7"
  }
 },
 "nbformat": 4,
 "nbformat_minor": 5
}
